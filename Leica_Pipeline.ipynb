{
  "nbformat": 4,
  "nbformat_minor": 0,
  "metadata": {
    "colab": {
      "name": "Leica_Pipeline.ipynb",
      "provenance": [],
      "collapsed_sections": [
        "IfpITcI-uBKG",
        "hJD48Uj_uqE3"
      ],
      "authorship_tag": "ABX9TyON4UmkM4piBNW6E6B676gE",
      "include_colab_link": true
    },
    "kernelspec": {
      "name": "python3",
      "display_name": "Python 3"
    },
    "language_info": {
      "name": "python"
    }
  },
  "cells": [
    {
      "cell_type": "markdown",
      "metadata": {
        "id": "view-in-github",
        "colab_type": "text"
      },
      "source": [
        "<a href=\"https://colab.research.google.com/github/bes82/Leica/blob/main/Leica_Pipeline.ipynb\" target=\"_parent\"><img src=\"https://colab.research.google.com/assets/colab-badge.svg\" alt=\"Open In Colab\"/></a>"
      ]
    },
    {
      "cell_type": "markdown",
      "metadata": {
        "id": "IfpITcI-uBKG"
      },
      "source": [
        "## Import libraries, download network, and load network.\n",
        "\n",
        "This cell has three jobs. \n",
        "\n",
        "1.) Import useful libraries for use during the pipeline.\n",
        "\n",
        "2.) Download the pipeline network architecture and weights from a Google Drive.\n",
        "\n",
        "3.) Load the network for use in the pipeline."
      ]
    },
    {
      "cell_type": "code",
      "metadata": {
        "id": "FjlPGWcKuAtM",
        "colab": {
          "base_uri": "https://localhost:8080/"
        },
        "cellView": "form",
        "outputId": "3e21c31e-8bda-48f0-bbbf-70775efcd2e2"
      },
      "source": [
        "#@title  <- Click here to run code. Double click this text to see code. \n",
        "print(\"Importing Useful Libraries...\")\n",
        "# Importing Useful Libraries.\n",
        "import tensorflow.keras\n",
        "import tensorflow as tf\n",
        "from tensorflow.keras.models import load_model\n",
        "\n",
        "import cv2, os\n",
        "from scipy.ndimage import label\n",
        "from skimage import measure\n",
        "import numpy as np\n",
        "import matplotlib.pyplot as plt\n",
        "import pandas as pd\n",
        "import time\n",
        "import shutil\n",
        "print(\"Done!\")\n",
        "\n",
        "# Clone Repository And Download Network Architecture and Weights.\n",
        "print(\"Cloning Repository...\")\n",
        "! git clone https://github.com/bes82/Leica\n",
        "print(\"Done!\")\n",
        "%cd Leica\n",
        "print(\"Downloading Network Architecture And Weights...\")\n",
        "!gdown --id \"1WvlKJ1CVMrPYq_jFgI7WaDgl1TWwL6UN\"\n",
        "!gdown --id \"1GiJghpU-zOHAxJVutCvz0Hpf3-bwzRnx\"\n",
        "print(\"Done!\")\n",
        "\n",
        "# Load Downloaded Network Architecture And Weights.\n",
        "print(\"Loading Network Architecture and Weights...\")\n",
        "network_Name_One = \"Phase_1_Network.h5\"\n",
        "network_Name_Two = \"Phase_2_Network.h5\"\n",
        "network_One = tf.keras.models.load_model(network_Name_One)\n",
        "network_Two = tf.keras.models.load_model(network_Name_Two)\n",
        "print(\"Done!\")"
      ],
      "execution_count": 1,
      "outputs": [
        {
          "output_type": "stream",
          "text": [
            "Importing Useful Libraries...\n",
            "Done!\n",
            "Cloning Repository...\n",
            "Cloning into 'Leica'...\n",
            "remote: Enumerating objects: 3, done.\u001b[K\n",
            "remote: Counting objects: 100% (3/3), done.\u001b[K\n",
            "remote: Total 3 (delta 0), reused 0 (delta 0), pack-reused 0\u001b[K\n",
            "Unpacking objects: 100% (3/3), done.\n",
            "Done!\n",
            "/content/Leica\n",
            "Downloading Network Architecture And Weights...\n",
            "Downloading...\n",
            "From: https://drive.google.com/uc?id=1WvlKJ1CVMrPYq_jFgI7WaDgl1TWwL6UN\n",
            "To: /content/Leica/Phase_1_Network.h5\n",
            "190MB [00:01, 144MB/s]\n",
            "Downloading...\n",
            "From: https://drive.google.com/uc?id=1GiJghpU-zOHAxJVutCvz0Hpf3-bwzRnx\n",
            "To: /content/Leica/Phase_2_Network.h5\n",
            "283MB [00:01, 186MB/s]\n",
            "Done!\n",
            "Loading Network Architecture and Weights...\n",
            "Done!\n"
          ],
          "name": "stdout"
        }
      ]
    },
    {
      "cell_type": "markdown",
      "metadata": {
        "id": "hJD48Uj_uqE3"
      },
      "source": [
        "## Create directory to hold channels for analysis.\n",
        "\n",
        "This cell is used to create a directory that will hold channels that we want to analyze.\n",
        "\n",
        "IMPORTANT: Once this cell is run, you will need to manually upload channel images to the directory titled \"Leica/Channel_Directory\". \n",
        "\n",
        "If you want to re-initialize the directory, then just re-run this code after analyzing your first batch of images."
      ]
    },
    {
      "cell_type": "code",
      "metadata": {
        "id": "oroLaZ28nA4Y",
        "cellView": "form"
      },
      "source": [
        "#@title <- Click here to run code. Double click this text to view code.\n",
        "# Create A Directory To Hold Channels For Analysis.\n",
        "channel_Directory = \"Channel_Directory/\"\n",
        "if os.path.isdir(channel_Directory):\n",
        "  shutil.rmtree(channel_Directory)\n",
        "os.mkdir(channel_Directory)"
      ],
      "execution_count": 2,
      "outputs": []
    },
    {
      "cell_type": "markdown",
      "metadata": {
        "id": "-Dd9vxNnvw8U"
      },
      "source": [
        "## Channel Analysis.\n",
        "\n",
        "This cell applies analysis to all of the channels uploaded to the \"Leica/Channel_Directory\" directory. After each channel is analyzed, the sRBC, WBC, other, and total counts are appended to a data frame and displayed to the user.\n",
        "\n",
        "After all channels are analyzed, the final dataframe is displayed to the user."
      ]
    },
    {
      "cell_type": "code",
      "metadata": {
        "colab": {
          "base_uri": "https://localhost:8080/",
          "height": 353
        },
        "id": "gKFNd16rOXKi",
        "cellView": "form",
        "outputId": "463437a9-1586-48b2-8d30-5465874ea0b6"
      },
      "source": [
        "#@title <- Click here to run code. Double click this text to view code.\n",
        "# An array to hold pixel areas for all tested channels.\n",
        "blob_Sizes = []\n",
        "output_Data_Frame = pd.DataFrame(columns = [\"File Name\", \"Number Of Adhered 'Cells'\", \"sRBC Counts\", \"WBC Counts\", \"Other\", \"Time (s)\"])\n",
        "# A function which applies a zero mean normalization to the input images.\n",
        "def standard_norm(img):\n",
        "    height, width, channels = img.shape\n",
        "    for channel in range(channels):\n",
        "        img[:,:,channel] = (img[:,:,channel] - np.mean(img[:,:,channel]))/np.std(img[:,:,channel])\n",
        "    return img\n",
        "\n",
        "# Thresholds to be tested.\n",
        "thresholds = [90]\n",
        "padding = 20\n",
        "# This large for loop will analyze all of the channels uploaded to the Channel Directory.\n",
        "for image_Name in os.listdir(channel_Directory):\n",
        "    # If statement necessary to avoid possible errors during analysis on Google Colab.\n",
        "    if \".ipynb\" in image_Name:\n",
        "      continue\n",
        "    # Start time of analysis.\n",
        "    start_Time = time.time()\n",
        "    print(\"Analyzing \" + image_Name[:-4])\n",
        "    start_Time = time.time()\n",
        "    # Reading In Channel.\n",
        "    full_Channel = plt.imread(channel_Directory + image_Name)\n",
        "    # Convert grayscale image to RGB if the input channel is grayscale.\n",
        "    if len(np.shape(full_Channel)) == 2:\n",
        "        full_Channel = cv2.cvtColor(full_Channel, cv2.COLOR_GRAY2RGB)\n",
        "    # Defining characteristics of the input channel.\n",
        "    image_Height, image_Width, channels = np.shape(full_Channel)\n",
        "    # The following if statements are used to resize the channel to have\n",
        "    # dimensions which are evenly dividable by 150. To avoid as much distortion\n",
        "    # as possible, we will resize either up or down in each dimensions, \n",
        "    # depending on which end the dimensions is closer to.\n",
        "    if (image_Height % 150) < 75 and (image_Width % 150) < 75:\n",
        "        full_Channel_Resized = cv2.resize(full_Channel,(int(np.floor(image_Width/150)*150), int(np.floor(image_Height/150)*150)), interpolation = cv2.INTER_CUBIC)\n",
        "        vertical_Tiles = int(np.floor(image_Height/150))\n",
        "        horizontal_Tiles = int(np.floor(image_Width/150))\n",
        "    elif (image_Height % 150) >= 75 and (image_Width % 150) >= 75:\n",
        "        full_Channel_Resized = cv2.resize(full_Channel,(int((np.floor(image_Width/150) + 1)*150), int((np.floor(image_Height/150) + 1)*150)), interpolation = cv2.INTER_CUBIC)\n",
        "        vertical_Tiles = int((np.floor(image_Height/150) + 1))\n",
        "        horizontal_Tiles = int((np.floor(image_Width/150) + 1))\n",
        "    elif (image_Height % 150) >= 75 and (image_Width % 150) < 75:\n",
        "        full_Channel_Resized = cv2.resize(full_Channel,(int(np.floor(image_Width/150)*150), int((np.floor(image_Height/150) + 1)*150)), interpolation = cv2.INTER_CUBIC)\n",
        "        vertical_Tiles = int((np.floor(image_Height/150) + 1))\n",
        "        horizontal_Tiles = int(np.floor(image_Width/150))\n",
        "    else:\n",
        "        full_Channel_Resized = cv2.resize(full_Channel,(int((np.floor(image_Width/150) + 1)*150), int(np.floor(image_Height/150)*150)), interpolation = cv2.INTER_CUBIC)\n",
        "        vertical_Tiles = int(np.floor(image_Height/150))\n",
        "        horizontal_Tiles = int((np.floor(image_Width/150) + 1))\n",
        "    full_Channel_Resized_Borders = cv2.copyMakeBorder(full_Channel_Resized.copy(), padding, padding, padding, padding, cv2.BORDER_CONSTANT)\n",
        "    # Defining characteristics of the resized input channel.\n",
        "    image_Height_Resized, image_Width_Resized, channels = np.shape(full_Channel_Resized)\n",
        "    # Creating an array which will hold predictions.\n",
        "    output_Image = np.zeros((image_Height_Resized,image_Width_Resized))\n",
        "\n",
        "    # The following chunk of code will make predictions, and create output\n",
        "    # images and mask predictions.\n",
        "    x_Slider = 0\n",
        "    y_Slider = 0\n",
        "    # Creating an array which will hold predictions for each tile.\n",
        "    output_Array = np.zeros((128,128))\n",
        "    # In the following for loops, we will slide through the input channel, \n",
        "    # tile by tile, and make predictions on each tile.\n",
        "    for i in range(vertical_Tiles):\n",
        "        x_Slider = 150*i\n",
        "        # Sliding through all tiles in a row for each row.\n",
        "        for j in range(horizontal_Tiles):\n",
        "            y_Slider = 150*j\n",
        "            # Resizing tile to required input size.\n",
        "            current_Tile = full_Channel_Resized[x_Slider:x_Slider + 150, y_Slider: y_Slider + 150,:]/255\n",
        "            current_Tile = cv2.resize(current_Tile, (128,128), interpolation=cv2.INTER_AREA)\n",
        "\n",
        "            # Normalizing the tile.\n",
        "            current_Tile_Normalized = standard_norm(current_Tile.copy())\n",
        "            current_Tile_Normalized = current_Tile_Normalized[None,:,:,:]\n",
        "            output = network_One.predict(current_Tile_Normalized)\n",
        "\n",
        "            output_Max = np.argmax(output, axis = 3)\n",
        "            output_Array = output_Max[0,:,:].astype('float32')\n",
        "            #print(output_Array)\n",
        "            # Finding the prediction for each pixel in the tile.\n",
        "            #for i in range(128):\n",
        "                #for j in range(128):\n",
        "                    #output_Array[i,j] = np.argmax(output[0,i,j,:])\n",
        "            \n",
        "            # Resizing tile back to original size.\n",
        "            output_Array = cv2.resize(output_Array,(150,150),interpolation = cv2.INTER_AREA)\n",
        "            output_Image[x_Slider:x_Slider + 150, y_Slider: y_Slider + 150] = output_Array\n",
        "            output_Array = np.zeros((128,128))\n",
        "    # The following for loops binarize the output, after resizing distortion.\n",
        "    output_Image = np.around(output_Image).astype(int)\n",
        "    #for i in range(image_Height_Resized):\n",
        "        #for j in range(image_Width_Resized):\n",
        "            #output_Image[i,j] = int(round(output_Image[i,j],1))\n",
        "\n",
        "    # Defining connected pixel regions in the final image.\n",
        "    blobs, number_Of_Blobs = label(output_Image == 1) # whole channel image\n",
        "    properties = measure.regionprops(blobs)\n",
        "    centroids = [prop.centroid for prop in properties if prop.area > 50]\n",
        "    #print(len(centroids))\n",
        "    sRBC = 0\n",
        "    WBC = 0\n",
        "    other = 0\n",
        "    for i in range(len(centroids)):\n",
        "        cell_Region = full_Channel_Resized_Borders[int(centroids[i][0]) - 16 + padding:int(centroids[i][0]) + 16 + padding,int(centroids[i][1]) - 16 + padding:int(centroids[i][1]) + 16 + padding,:]\n",
        "        cell_Region_Resized = cv2.resize(cell_Region.copy().astype('float64'), (224,224), interpolation=cv2.INTER_LINEAR)/255\n",
        "        #cell_Count = cell_Count + 1\n",
        "        cell_Region_Resized_Normalized = standard_norm(cell_Region_Resized.copy())\n",
        "        cell_Region_Resized_Normalized = cell_Region_Resized_Normalized[None,:,:,:]\n",
        "        percentages = network_Two.predict(cell_Region_Resized_Normalized)\n",
        "        prediction = np.argmax(percentages)\n",
        "        if prediction == 0:\n",
        "            sRBC = sRBC + 1\n",
        "            continue\n",
        "        elif prediction == 1:\n",
        "            WBC = WBC + 1\n",
        "            continue\n",
        "        else:\n",
        "            other = other + 1\n",
        "            continue\n",
        "    #print(\"sRBC =  \" + str(sRBC))\n",
        "    #print(\"WBC = \" + str(WBC))\n",
        "    #print(\"Other = \" + str(other))\n",
        "    end_Time = time.time()\n",
        "    time_Change = end_Time - start_Time\n",
        "    #print(time_Change)\n",
        "    print(\"======================================\")\n",
        "    output_Data_Frame = output_Data_Frame.append(pd.DataFrame([[image_Name,len(centroids),sRBC,WBC,other,time_Change]], columns = [\"File Name\", \"Number Of Adhered 'Cells'\", \"sRBC Counts\", \"WBC Counts\", \"Other\", \"Time (s)\"]))\n",
        "    display(output_Data_Frame)\n",
        "print(\"Final Data\")\n",
        "display(output_Data_Frame)"
      ],
      "execution_count": 5,
      "outputs": [
        {
          "output_type": "stream",
          "text": [
            "Analyzing 9-3_ch3_pselectin_1348wbc_3rbc\n",
            "======================================\n"
          ],
          "name": "stdout"
        },
        {
          "output_type": "display_data",
          "data": {
            "text/html": [
              "<div>\n",
              "<style scoped>\n",
              "    .dataframe tbody tr th:only-of-type {\n",
              "        vertical-align: middle;\n",
              "    }\n",
              "\n",
              "    .dataframe tbody tr th {\n",
              "        vertical-align: top;\n",
              "    }\n",
              "\n",
              "    .dataframe thead th {\n",
              "        text-align: right;\n",
              "    }\n",
              "</style>\n",
              "<table border=\"1\" class=\"dataframe\">\n",
              "  <thead>\n",
              "    <tr style=\"text-align: right;\">\n",
              "      <th></th>\n",
              "      <th>File Name</th>\n",
              "      <th>Number Of Adhered 'Cells'</th>\n",
              "      <th>sRBC Counts</th>\n",
              "      <th>WBC Counts</th>\n",
              "      <th>Other</th>\n",
              "      <th>Time (s)</th>\n",
              "    </tr>\n",
              "  </thead>\n",
              "  <tbody>\n",
              "    <tr>\n",
              "      <th>0</th>\n",
              "      <td>9-3_ch3_pselectin_1348wbc_3rbc.jpg</td>\n",
              "      <td>1415</td>\n",
              "      <td>19</td>\n",
              "      <td>1356</td>\n",
              "      <td>40</td>\n",
              "      <td>977.118931</td>\n",
              "    </tr>\n",
              "  </tbody>\n",
              "</table>\n",
              "</div>"
            ],
            "text/plain": [
              "                            File Name  ...    Time (s)\n",
              "0  9-3_ch3_pselectin_1348wbc_3rbc.jpg  ...  977.118931\n",
              "\n",
              "[1 rows x 6 columns]"
            ]
          },
          "metadata": {
            "tags": []
          }
        },
        {
          "output_type": "stream",
          "text": [
            "Analyzing 10-20 - ch1 - LN - RBC 1089\n",
            "======================================\n"
          ],
          "name": "stdout"
        },
        {
          "output_type": "display_data",
          "data": {
            "text/html": [
              "<div>\n",
              "<style scoped>\n",
              "    .dataframe tbody tr th:only-of-type {\n",
              "        vertical-align: middle;\n",
              "    }\n",
              "\n",
              "    .dataframe tbody tr th {\n",
              "        vertical-align: top;\n",
              "    }\n",
              "\n",
              "    .dataframe thead th {\n",
              "        text-align: right;\n",
              "    }\n",
              "</style>\n",
              "<table border=\"1\" class=\"dataframe\">\n",
              "  <thead>\n",
              "    <tr style=\"text-align: right;\">\n",
              "      <th></th>\n",
              "      <th>File Name</th>\n",
              "      <th>Number Of Adhered 'Cells'</th>\n",
              "      <th>sRBC Counts</th>\n",
              "      <th>WBC Counts</th>\n",
              "      <th>Other</th>\n",
              "      <th>Time (s)</th>\n",
              "    </tr>\n",
              "  </thead>\n",
              "  <tbody>\n",
              "    <tr>\n",
              "      <th>0</th>\n",
              "      <td>9-3_ch3_pselectin_1348wbc_3rbc.jpg</td>\n",
              "      <td>1415</td>\n",
              "      <td>19</td>\n",
              "      <td>1356</td>\n",
              "      <td>40</td>\n",
              "      <td>977.118931</td>\n",
              "    </tr>\n",
              "    <tr>\n",
              "      <th>0</th>\n",
              "      <td>10-20 - ch1 - LN - RBC 1089.jpg</td>\n",
              "      <td>2045</td>\n",
              "      <td>986</td>\n",
              "      <td>104</td>\n",
              "      <td>955</td>\n",
              "      <td>1119.147041</td>\n",
              "    </tr>\n",
              "  </tbody>\n",
              "</table>\n",
              "</div>"
            ],
            "text/plain": [
              "                            File Name  ...     Time (s)\n",
              "0  9-3_ch3_pselectin_1348wbc_3rbc.jpg  ...   977.118931\n",
              "0     10-20 - ch1 - LN - RBC 1089.jpg  ...  1119.147041\n",
              "\n",
              "[2 rows x 6 columns]"
            ]
          },
          "metadata": {
            "tags": []
          }
        },
        {
          "output_type": "stream",
          "text": [
            "Final Data\n"
          ],
          "name": "stdout"
        },
        {
          "output_type": "display_data",
          "data": {
            "text/html": [
              "<div>\n",
              "<style scoped>\n",
              "    .dataframe tbody tr th:only-of-type {\n",
              "        vertical-align: middle;\n",
              "    }\n",
              "\n",
              "    .dataframe tbody tr th {\n",
              "        vertical-align: top;\n",
              "    }\n",
              "\n",
              "    .dataframe thead th {\n",
              "        text-align: right;\n",
              "    }\n",
              "</style>\n",
              "<table border=\"1\" class=\"dataframe\">\n",
              "  <thead>\n",
              "    <tr style=\"text-align: right;\">\n",
              "      <th></th>\n",
              "      <th>File Name</th>\n",
              "      <th>Number Of Adhered 'Cells'</th>\n",
              "      <th>sRBC Counts</th>\n",
              "      <th>WBC Counts</th>\n",
              "      <th>Other</th>\n",
              "      <th>Time (s)</th>\n",
              "    </tr>\n",
              "  </thead>\n",
              "  <tbody>\n",
              "    <tr>\n",
              "      <th>0</th>\n",
              "      <td>9-3_ch3_pselectin_1348wbc_3rbc.jpg</td>\n",
              "      <td>1415</td>\n",
              "      <td>19</td>\n",
              "      <td>1356</td>\n",
              "      <td>40</td>\n",
              "      <td>977.118931</td>\n",
              "    </tr>\n",
              "    <tr>\n",
              "      <th>0</th>\n",
              "      <td>10-20 - ch1 - LN - RBC 1089.jpg</td>\n",
              "      <td>2045</td>\n",
              "      <td>986</td>\n",
              "      <td>104</td>\n",
              "      <td>955</td>\n",
              "      <td>1119.147041</td>\n",
              "    </tr>\n",
              "  </tbody>\n",
              "</table>\n",
              "</div>"
            ],
            "text/plain": [
              "                            File Name  ...     Time (s)\n",
              "0  9-3_ch3_pselectin_1348wbc_3rbc.jpg  ...   977.118931\n",
              "0     10-20 - ch1 - LN - RBC 1089.jpg  ...  1119.147041\n",
              "\n",
              "[2 rows x 6 columns]"
            ]
          },
          "metadata": {
            "tags": []
          }
        }
      ]
    },
    {
      "cell_type": "code",
      "metadata": {
        "id": "m4VCAfzkCc41"
      },
      "source": [
        ""
      ],
      "execution_count": null,
      "outputs": []
    }
  ]
}